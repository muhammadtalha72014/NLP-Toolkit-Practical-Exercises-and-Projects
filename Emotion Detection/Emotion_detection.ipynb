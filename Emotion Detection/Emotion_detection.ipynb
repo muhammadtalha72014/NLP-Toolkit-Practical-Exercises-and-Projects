{
 "cells": [
  {
   "cell_type": "markdown",
   "id": "3e4fa845-3004-4d13-bef9-9c8ac2ea7ed4",
   "metadata": {},
   "source": [
    "# Emotion Detection\n",
    "Dataset: https://www.kaggle.com/datasets/praveengovi/emotions-dataset-for-nlp"
   ]
  },
  {
   "cell_type": "code",
   "execution_count": 1,
   "id": "994b00fa-8730-4bcf-a025-e52e3276f291",
   "metadata": {},
   "outputs": [],
   "source": [
    "#import pandas library\n",
    "import pandas as pd"
   ]
  },
  {
   "cell_type": "code",
   "execution_count": 6,
   "id": "ef0c68c6-b73d-4afc-b857-1dd011ec5e90",
   "metadata": {},
   "outputs": [],
   "source": [
    "#read the dataset with name \"Emotion_classify_Data.csv\" and store it in a variable df\n",
    "header = ['comment', 'emotion']\n",
    "df = pd.read_csv('Emotion Detection/train.txt',delimiter = ';',names = header)"
   ]
  },
  {
   "cell_type": "code",
   "execution_count": 5,
   "id": "e206feca-1d24-4c41-b3d8-3c9101890b71",
   "metadata": {},
   "outputs": [
    {
     "data": {
      "text/plain": [
       "(16000, 2)"
      ]
     },
     "execution_count": 5,
     "metadata": {},
     "output_type": "execute_result"
    }
   ],
   "source": [
    "#print the shape of dataframe\n",
    "df.shape"
   ]
  },
  {
   "cell_type": "code",
   "execution_count": 7,
   "id": "88968834-0b78-404b-9111-7587a63a84ee",
   "metadata": {},
   "outputs": [
    {
     "data": {
      "text/html": [
       "<div>\n",
       "<style scoped>\n",
       "    .dataframe tbody tr th:only-of-type {\n",
       "        vertical-align: middle;\n",
       "    }\n",
       "\n",
       "    .dataframe tbody tr th {\n",
       "        vertical-align: top;\n",
       "    }\n",
       "\n",
       "    .dataframe thead th {\n",
       "        text-align: right;\n",
       "    }\n",
       "</style>\n",
       "<table border=\"1\" class=\"dataframe\">\n",
       "  <thead>\n",
       "    <tr style=\"text-align: right;\">\n",
       "      <th></th>\n",
       "      <th>comment</th>\n",
       "      <th>emotion</th>\n",
       "    </tr>\n",
       "  </thead>\n",
       "  <tbody>\n",
       "    <tr>\n",
       "      <th>0</th>\n",
       "      <td>i didnt feel humiliated</td>\n",
       "      <td>sadness</td>\n",
       "    </tr>\n",
       "    <tr>\n",
       "      <th>1</th>\n",
       "      <td>i can go from feeling so hopeless to so damned...</td>\n",
       "      <td>sadness</td>\n",
       "    </tr>\n",
       "    <tr>\n",
       "      <th>2</th>\n",
       "      <td>im grabbing a minute to post i feel greedy wrong</td>\n",
       "      <td>anger</td>\n",
       "    </tr>\n",
       "    <tr>\n",
       "      <th>3</th>\n",
       "      <td>i am ever feeling nostalgic about the fireplac...</td>\n",
       "      <td>love</td>\n",
       "    </tr>\n",
       "    <tr>\n",
       "      <th>4</th>\n",
       "      <td>i am feeling grouchy</td>\n",
       "      <td>anger</td>\n",
       "    </tr>\n",
       "  </tbody>\n",
       "</table>\n",
       "</div>"
      ],
      "text/plain": [
       "                                             comment  emotion\n",
       "0                            i didnt feel humiliated  sadness\n",
       "1  i can go from feeling so hopeless to so damned...  sadness\n",
       "2   im grabbing a minute to post i feel greedy wrong    anger\n",
       "3  i am ever feeling nostalgic about the fireplac...     love\n",
       "4                               i am feeling grouchy    anger"
      ]
     },
     "execution_count": 7,
     "metadata": {},
     "output_type": "execute_result"
    }
   ],
   "source": [
    "#print top 5 rows\n",
    "df.head()"
   ]
  },
  {
   "cell_type": "code",
   "execution_count": 8,
   "id": "adc44ebb-99a6-455c-a4ab-75ef68becbee",
   "metadata": {},
   "outputs": [
    {
     "data": {
      "text/plain": [
       "emotion\n",
       "joy         5362\n",
       "sadness     4666\n",
       "anger       2159\n",
       "fear        1937\n",
       "love        1304\n",
       "surprise     572\n",
       "Name: count, dtype: int64"
      ]
     },
     "execution_count": 8,
     "metadata": {},
     "output_type": "execute_result"
    }
   ],
   "source": [
    "#check the distribution of Emotion\n",
    "df.emotion.value_counts()"
   ]
  },
  {
   "cell_type": "code",
   "execution_count": 10,
   "id": "620e1ce3-2a6f-4c52-86ca-dddb5c702a8b",
   "metadata": {},
   "outputs": [],
   "source": [
    "min_samples = 572\n",
    "\n",
    "df_joy = df[df.emotion==\"joy\"].sample(min_samples, random_state=2022)\n",
    "df_sadness = df[df.emotion==\"sadness\"].sample(min_samples, random_state=2022)\n",
    "df_anger = df[df.emotion==\"anger\"].sample(min_samples, random_state=2022)\n",
    "df_fear = df[df.emotion==\"fear\"].sample(min_samples, random_state=2022)\n",
    "df_love = df[df.emotion==\"love\"].sample(min_samples, random_state=2022)\n",
    "df_surprise = df[df.emotion==\"surprise\"].sample(min_samples, random_state=2022)"
   ]
  },
  {
   "cell_type": "code",
   "execution_count": 12,
   "id": "ab800130-c22e-4299-bdf3-94f45f03eaa0",
   "metadata": {},
   "outputs": [
    {
     "data": {
      "text/plain": [
       "emotion\n",
       "joy         572\n",
       "sadness     572\n",
       "anger       572\n",
       "fear        572\n",
       "love        572\n",
       "surprise    572\n",
       "Name: count, dtype: int64"
      ]
     },
     "execution_count": 12,
     "metadata": {},
     "output_type": "execute_result"
    }
   ],
   "source": [
    "df_balanced = pd.concat([df_joy, df_sadness, df_anger,df_fear,df_love,df_surprise],axis=0)\n",
    "df_balanced.emotion.value_counts()"
   ]
  },
  {
   "cell_type": "code",
   "execution_count": 15,
   "id": "14227d65-3ba6-430a-b06a-234183f98d3b",
   "metadata": {},
   "outputs": [
    {
     "data": {
      "text/plain": [
       "(3432, 2)"
      ]
     },
     "execution_count": 15,
     "metadata": {},
     "output_type": "execute_result"
    }
   ],
   "source": [
    "df_balanced.shape"
   ]
  },
  {
   "cell_type": "code",
   "execution_count": 23,
   "id": "de2684bb-c5ae-43be-902d-e7184c68700d",
   "metadata": {},
   "outputs": [],
   "source": [
    "#Add the new column \"Emotion_num\" which gives a unique number to each of these Emotions\n",
    "df_balanced['emotion_num']=df_balanced['emotion'].map({\n",
    "    'joy' : 0,\n",
    "    'sadness' : 1,\n",
    "    'anger' : 2,\n",
    "    'fear' : 3,\n",
    "    'love' : 4,\n",
    "    'surprise' : 5\n",
    "})"
   ]
  },
  {
   "cell_type": "code",
   "execution_count": 24,
   "id": "a0dd1ea3-421d-4aed-b132-62ed30df54db",
   "metadata": {},
   "outputs": [
    {
     "data": {
      "text/html": [
       "<div>\n",
       "<style scoped>\n",
       "    .dataframe tbody tr th:only-of-type {\n",
       "        vertical-align: middle;\n",
       "    }\n",
       "\n",
       "    .dataframe tbody tr th {\n",
       "        vertical-align: top;\n",
       "    }\n",
       "\n",
       "    .dataframe thead th {\n",
       "        text-align: right;\n",
       "    }\n",
       "</style>\n",
       "<table border=\"1\" class=\"dataframe\">\n",
       "  <thead>\n",
       "    <tr style=\"text-align: right;\">\n",
       "      <th></th>\n",
       "      <th>comment</th>\n",
       "      <th>emotion</th>\n",
       "      <th>emotion_num</th>\n",
       "    </tr>\n",
       "  </thead>\n",
       "  <tbody>\n",
       "    <tr>\n",
       "      <th>15478</th>\n",
       "      <td>i want to do with my life is an amazing feelin...</td>\n",
       "      <td>joy</td>\n",
       "      <td>0</td>\n",
       "    </tr>\n",
       "    <tr>\n",
       "      <th>552</th>\n",
       "      <td>i checked on you was a long time ago i can say...</td>\n",
       "      <td>joy</td>\n",
       "      <td>0</td>\n",
       "    </tr>\n",
       "    <tr>\n",
       "      <th>4021</th>\n",
       "      <td>i should do but i think it means that i should...</td>\n",
       "      <td>joy</td>\n",
       "      <td>0</td>\n",
       "    </tr>\n",
       "    <tr>\n",
       "      <th>13217</th>\n",
       "      <td>i feel the near and lively presence of the wel...</td>\n",
       "      <td>joy</td>\n",
       "      <td>0</td>\n",
       "    </tr>\n",
       "    <tr>\n",
       "      <th>2784</th>\n",
       "      <td>i am left tonight feeling so hopeful for the f...</td>\n",
       "      <td>joy</td>\n",
       "      <td>0</td>\n",
       "    </tr>\n",
       "  </tbody>\n",
       "</table>\n",
       "</div>"
      ],
      "text/plain": [
       "                                                 comment emotion  emotion_num\n",
       "15478  i want to do with my life is an amazing feelin...     joy            0\n",
       "552    i checked on you was a long time ago i can say...     joy            0\n",
       "4021   i should do but i think it means that i should...     joy            0\n",
       "13217  i feel the near and lively presence of the wel...     joy            0\n",
       "2784   i am left tonight feeling so hopeful for the f...     joy            0"
      ]
     },
     "execution_count": 24,
     "metadata": {},
     "output_type": "execute_result"
    }
   ],
   "source": [
    "#checking the results \n",
    "df_balanced.head()"
   ]
  },
  {
   "cell_type": "code",
   "execution_count": 25,
   "id": "c0e46e8f-1c53-45c5-8f98-61dbc4b3b0b3",
   "metadata": {},
   "outputs": [],
   "source": [
    "#Do the 'train-test' splitting with test size of 20%\n",
    "\n",
    "from sklearn.model_selection import train_test_split\n",
    "\n",
    "X_train, X_test, y_train, y_test = train_test_split(\n",
    "    df_balanced.comment, \n",
    "    df_balanced.emotion_num, \n",
    "    test_size=0.2,\n",
    "    random_state=2022,\n",
    "    stratify=df_balanced.emotion_num\n",
    ")"
   ]
  },
  {
   "cell_type": "code",
   "execution_count": 26,
   "id": "732b4885-5d72-4c5b-a902-9bd3f587c49d",
   "metadata": {},
   "outputs": [
    {
     "name": "stdout",
     "output_type": "stream",
     "text": [
      "Shape of X_train:  (2745,)\n",
      "Shape of X_test:  (687,)\n"
     ]
    }
   ],
   "source": [
    "#print the shapes\n",
    "print(\"Shape of X_train: \", X_train.shape)\n",
    "print(\"Shape of X_test: \", X_test.shape)"
   ]
  },
  {
   "cell_type": "markdown",
   "id": "5a616f29-27a3-4ad3-b8c3-65570063aee3",
   "metadata": {},
   "source": [
    "# Random Forest"
   ]
  },
  {
   "cell_type": "code",
   "execution_count": 27,
   "id": "15ec0a4b-4168-4a9a-8a8b-6f3c96c5077c",
   "metadata": {},
   "outputs": [
    {
     "name": "stdout",
     "output_type": "stream",
     "text": [
      "              precision    recall  f1-score   support\n",
      "\n",
      "           0       0.53      0.08      0.14       114\n",
      "           1       0.30      0.06      0.10       115\n",
      "           2       0.17      0.06      0.09       114\n",
      "           3       0.18      0.78      0.29       114\n",
      "           4       0.29      0.22      0.25       115\n",
      "           5       0.41      0.06      0.11       115\n",
      "\n",
      "    accuracy                           0.21       687\n",
      "   macro avg       0.31      0.21      0.16       687\n",
      "weighted avg       0.31      0.21      0.16       687\n",
      "\n"
     ]
    }
   ],
   "source": [
    "#1. create a pipeline object\n",
    "\n",
    "from sklearn.feature_extraction.text import CountVectorizer\n",
    "from sklearn.ensemble import RandomForestClassifier\n",
    "from sklearn.pipeline import Pipeline\n",
    "from sklearn.metrics import classification_report\n",
    "\n",
    "clf = Pipeline([\n",
    "    ('vectorizer_tri_grams', CountVectorizer(ngram_range = (3, 3))),                        \n",
    "    ('random_forest', (RandomForestClassifier()))         \n",
    "])\n",
    "\n",
    "#2. fit with X_train and y_train\n",
    "clf.fit(X_train, y_train)\n",
    "\n",
    "\n",
    "#3. get the predictions for X_test and store it in y_pred\n",
    "y_pred = clf.predict(X_test)\n",
    "\n",
    "\n",
    "#4. print the classfication report\n",
    "print(classification_report(y_test, y_pred))"
   ]
  },
  {
   "cell_type": "code",
   "execution_count": 29,
   "id": "96c12063-31aa-46f8-9123-71e6088dfb0d",
   "metadata": {},
   "outputs": [
    {
     "name": "stdout",
     "output_type": "stream",
     "text": [
      "              precision    recall  f1-score   support\n",
      "\n",
      "           0       0.71      0.61      0.66       114\n",
      "           1       0.61      0.77      0.68       115\n",
      "           2       0.92      0.75      0.83       114\n",
      "           3       0.86      0.75      0.80       114\n",
      "           4       0.85      0.93      0.89       115\n",
      "           5       0.90      0.97      0.93       115\n",
      "\n",
      "    accuracy                           0.80       687\n",
      "   macro avg       0.81      0.80      0.80       687\n",
      "weighted avg       0.81      0.80      0.80       687\n",
      "\n"
     ]
    }
   ],
   "source": [
    "#1. create a pipeline object\n",
    "clf = Pipeline([\n",
    "    ('vectorizer_bi_grams', CountVectorizer(ngram_range = (1, 2))),                       #using the ngram_range parameter \n",
    "    ('random_forest', (RandomForestClassifier()))         \n",
    "])\n",
    "\n",
    "#2. fit with X_train and y_train\n",
    "clf.fit(X_train, y_train)\n",
    "\n",
    "\n",
    "#3. get the predictions for X_test and store it in y_pred\n",
    "y_pred = clf.predict(X_test)\n",
    "\n",
    "\n",
    "#4. print the classfication report\n",
    "print(classification_report(y_test, y_pred))"
   ]
  },
  {
   "cell_type": "code",
   "execution_count": 30,
   "id": "a876deb3-38c7-4c5f-a520-21534f457933",
   "metadata": {},
   "outputs": [
    {
     "name": "stdout",
     "output_type": "stream",
     "text": [
      "              precision    recall  f1-score   support\n",
      "\n",
      "           0       0.62      0.64      0.63       114\n",
      "           1       0.62      0.65      0.64       115\n",
      "           2       0.81      0.73      0.77       114\n",
      "           3       0.85      0.71      0.78       114\n",
      "           4       0.82      0.90      0.86       115\n",
      "           5       0.89      0.99      0.94       115\n",
      "\n",
      "    accuracy                           0.77       687\n",
      "   macro avg       0.77      0.77      0.77       687\n",
      "weighted avg       0.77      0.77      0.77       687\n",
      "\n"
     ]
    }
   ],
   "source": [
    "from sklearn.feature_extraction.text import TfidfVectorizer\n",
    "\n",
    "\n",
    "#1. create a pipeline object\n",
    "clf = Pipeline([\n",
    "     ('vectorizer_tfidf',TfidfVectorizer()),        \n",
    "     ('Random Forest', RandomForestClassifier())         \n",
    "])\n",
    "\n",
    "#2. fit with X_train and y_train\n",
    "clf.fit(X_train, y_train)\n",
    "\n",
    "\n",
    "#3. get the predictions for X_test and store it in y_pred\n",
    "y_pred = clf.predict(X_test)\n",
    "\n",
    "\n",
    "#4. print the classfication report\n",
    "print(classification_report(y_test, y_pred))"
   ]
  },
  {
   "cell_type": "markdown",
   "id": "02fdb4ed-58c6-4843-a269-3a0a209c823a",
   "metadata": {},
   "source": [
    "# MultinomialNB"
   ]
  },
  {
   "cell_type": "code",
   "execution_count": 28,
   "id": "eae33a90-9cb5-4823-8cd4-68a48bacb452",
   "metadata": {},
   "outputs": [
    {
     "name": "stdout",
     "output_type": "stream",
     "text": [
      "              precision    recall  f1-score   support\n",
      "\n",
      "           0       0.62      0.60      0.61       114\n",
      "           1       0.63      0.48      0.54       115\n",
      "           2       0.67      0.58      0.62       114\n",
      "           3       0.74      0.61      0.67       114\n",
      "           4       0.58      0.75      0.65       115\n",
      "           5       0.67      0.87      0.76       115\n",
      "\n",
      "    accuracy                           0.65       687\n",
      "   macro avg       0.65      0.65      0.64       687\n",
      "weighted avg       0.65      0.65      0.64       687\n",
      "\n"
     ]
    }
   ],
   "source": [
    "from sklearn.naive_bayes import MultinomialNB\n",
    "\n",
    "\n",
    "#1. create a pipeline object\n",
    "clf = Pipeline([\n",
    "    ('vectorizer_bigrams', CountVectorizer(ngram_range = (1, 2))),        #using the ngram_range parameter \n",
    "     ('Multi NB', MultinomialNB())         \n",
    "])\n",
    "\n",
    "#2. fit with X_train and y_train\n",
    "clf.fit(X_train, y_train)\n",
    "\n",
    "\n",
    "#3. get the predictions for X_test and store it in y_pred\n",
    "y_pred = clf.predict(X_test)\n",
    "\n",
    "\n",
    "#4. print the classfication report\n",
    "print(classification_report(y_test, y_pred))"
   ]
  },
  {
   "cell_type": "markdown",
   "id": "ac98931c-ca03-44b3-9c79-83e97e7d4c59",
   "metadata": {},
   "source": [
    "# Text Preprocessing"
   ]
  },
  {
   "cell_type": "code",
   "execution_count": 31,
   "id": "7c4784a6-c0d7-4e8f-99b7-00e163fc32bf",
   "metadata": {},
   "outputs": [],
   "source": [
    "import spacy\n",
    "\n",
    "# load english language model and create nlp object from it\n",
    "nlp = spacy.load(\"en_core_web_sm\") \n",
    "\n",
    "\n",
    "#use this utility function to get the preprocessed text data\n",
    "def preprocess(text):\n",
    "    # remove stop words and lemmatize the text\n",
    "    doc = nlp(text)\n",
    "    filtered_tokens = []\n",
    "    for token in doc:\n",
    "        if token.is_stop or token.is_punct:\n",
    "            continue\n",
    "        filtered_tokens.append(token.lemma_)\n",
    "    \n",
    "    return \" \".join(filtered_tokens) "
   ]
  },
  {
   "cell_type": "code",
   "execution_count": 32,
   "id": "a5498ef2-8757-4b48-9671-942bda3c469d",
   "metadata": {},
   "outputs": [],
   "source": [
    "# create a new column \"preprocessed_comment\" and use the utility function above to get the clean data\n",
    "# this will take some time, please be patient\n",
    "df_balanced['preprocessed_comment'] = df_balanced['comment'].apply(preprocess) "
   ]
  },
  {
   "cell_type": "code",
   "execution_count": 33,
   "id": "3b9bf159-9b06-4834-82ca-613bb77e0608",
   "metadata": {},
   "outputs": [],
   "source": [
    "#Do the 'train-test' splitting with test size of 20%\n",
    "\n",
    "from sklearn.model_selection import train_test_split\n",
    "\n",
    "X_train, X_test, y_train, y_test = train_test_split(\n",
    "    df_balanced.comment, \n",
    "    df_balanced.emotion_num, \n",
    "    test_size=0.2,\n",
    "    random_state=2022,\n",
    "    stratify=df_balanced.emotion_num\n",
    ")"
   ]
  },
  {
   "cell_type": "markdown",
   "id": "bb7f3e56-6842-4c6f-a49a-62e63aa31c82",
   "metadata": {},
   "source": [
    "# Random Forest"
   ]
  },
  {
   "cell_type": "code",
   "execution_count": 34,
   "id": "d05e0c4a-1958-49b7-adcb-9aed3f7caa3c",
   "metadata": {},
   "outputs": [
    {
     "name": "stdout",
     "output_type": "stream",
     "text": [
      "              precision    recall  f1-score   support\n",
      "\n",
      "           0       0.79      0.68      0.73       114\n",
      "           1       0.65      0.79      0.71       115\n",
      "           2       0.90      0.79      0.84       114\n",
      "           3       0.89      0.77      0.83       114\n",
      "           4       0.85      0.92      0.88       115\n",
      "           5       0.90      0.98      0.94       115\n",
      "\n",
      "    accuracy                           0.82       687\n",
      "   macro avg       0.83      0.82      0.82       687\n",
      "weighted avg       0.83      0.82      0.82       687\n",
      "\n"
     ]
    }
   ],
   "source": [
    "#1. create a pipeline object\n",
    "clf = Pipeline([\n",
    "    ('vectorizer_bi_grams', CountVectorizer(ngram_range = (1, 2))),                       #using the ngram_range parameter \n",
    "    ('random_forest', (RandomForestClassifier()))         \n",
    "])\n",
    "\n",
    "#2. fit with X_train and y_train\n",
    "clf.fit(X_train, y_train)\n",
    "\n",
    "\n",
    "#3. get the predictions for X_test and store it in y_pred\n",
    "y_pred = clf.predict(X_test)\n",
    "\n",
    "\n",
    "#4. print the classfication report\n",
    "print(classification_report(y_test, y_pred))"
   ]
  },
  {
   "cell_type": "code",
   "execution_count": 35,
   "id": "66c2dd02-7c63-4c0d-9d87-1a970ed655d0",
   "metadata": {},
   "outputs": [
    {
     "name": "stdout",
     "output_type": "stream",
     "text": [
      "              precision    recall  f1-score   support\n",
      "\n",
      "           0       0.63      0.68      0.66       114\n",
      "           1       0.64      0.64      0.64       115\n",
      "           2       0.84      0.72      0.77       114\n",
      "           3       0.88      0.75      0.81       114\n",
      "           4       0.84      0.90      0.87       115\n",
      "           5       0.88      0.99      0.93       115\n",
      "\n",
      "    accuracy                           0.78       687\n",
      "   macro avg       0.78      0.78      0.78       687\n",
      "weighted avg       0.78      0.78      0.78       687\n",
      "\n"
     ]
    }
   ],
   "source": [
    "#1. create a pipeline object\n",
    "clf = Pipeline([\n",
    "     ('vectorizer_tfidf',TfidfVectorizer()),        #using the ngram_range parameter \n",
    "     ('Random Forest', RandomForestClassifier())         \n",
    "])\n",
    "\n",
    "#2. fit with X_train and y_train\n",
    "clf.fit(X_train, y_train)\n",
    "\n",
    "\n",
    "#3. get the predictions for X_test and store it in y_pred\n",
    "y_pred = clf.predict(X_test)\n",
    "\n",
    "\n",
    "#4. print the classfication report\n",
    "print(classification_report(y_test, y_pred)) "
   ]
  }
 ],
 "metadata": {
  "kernelspec": {
   "display_name": "Python 3 (ipykernel)",
   "language": "python",
   "name": "python3"
  },
  "language_info": {
   "codemirror_mode": {
    "name": "ipython",
    "version": 3
   },
   "file_extension": ".py",
   "mimetype": "text/x-python",
   "name": "python",
   "nbconvert_exporter": "python",
   "pygments_lexer": "ipython3",
   "version": "3.9.7"
  }
 },
 "nbformat": 4,
 "nbformat_minor": 5
}
